{
 "cells": [
  {
   "cell_type": "markdown",
   "metadata": {},
   "source": [
    "<h1 align=center><font size = 5>Lab05</font></h1>\n",
    "<h1 align=center><font size = 4>Python Basics </font></h1>\n"
   ]
  },
  {
   "cell_type": "markdown",
   "metadata": {},
   "source": [
    "### Exercise 1"
   ]
  },
  {
   "cell_type": "markdown",
   "metadata": {},
   "source": [
    "Without running the code, What is printed by the following statements?\n",
    "\n",
    "```\n",
    "mydict = {\"cat\":12, \"dog\":6, \"elephant\":23, \"bear\":20}\n",
    "keylist = list(mydict.keys())\n",
    "keylist.sort()\n",
    "print(keylist[3])\n",
    "```"
   ]
  },
  {
   "cell_type": "markdown",
   "metadata": {},
   "source": [
    "### Exercise 2"
   ]
  },
  {
   "cell_type": "markdown",
   "metadata": {},
   "source": [
    "Define a function called `sign` which takes a numerical argument and returns -1 if it's negative, 1 if it's positive, and 0 if it's 0. Test out your function. Write docstring for your function.\n",
    "\n"
   ]
  },
  {
   "cell_type": "code",
   "execution_count": 5,
   "metadata": {},
   "outputs": [
    {
     "data": {
      "text/plain": [
       "1"
      ]
     },
     "execution_count": 5,
     "metadata": {},
     "output_type": "execute_result"
    }
   ],
   "source": [
    "def sign(value):\n",
    "    '''\n",
    "    input :\n",
    "        value (int): numerical input\n",
    "    outout : \n",
    "        0= returns value of 0\n",
    "        1= return a positive value\n",
    "        -1 = return a negative value\n",
    "    ''' \n",
    "    if value <0:\n",
    "        result=-1\n",
    "    elif value >0:\n",
    "        result=1\n",
    "    else:\n",
    "        result=0\n",
    "        \n",
    "    return result\n",
    "\n",
    "sign(5)"
   ]
  },
  {
   "cell_type": "markdown",
   "metadata": {},
   "source": [
    "### Exercise 3"
   ]
  },
  {
   "cell_type": "markdown",
   "metadata": {},
   "source": [
    "Create a function that can accept two arguments first name and last name and print the first name in upper case and last name in lower case. Test out your function with your first name and last name."
   ]
  },
  {
   "cell_type": "code",
   "execution_count": 7,
   "metadata": {},
   "outputs": [
    {
     "name": "stdout",
     "output_type": "stream",
     "text": [
      "ANDRES CAMILO  camilo viloria\n"
     ]
    }
   ],
   "source": [
    "def ex3(firstName,lastName):\n",
    "    '''\n",
    "    input :\n",
    "        firstName (string): Your first name\n",
    "        lastName (string): Your last Name\n",
    "    outout : \n",
    "        the first name in upper case and last name in lower case\n",
    "    '''\n",
    "    print(firstName.upper(), lastName.lower())\n",
    "\n",
    "ex3('andres camilo ','camilo viloria')"
   ]
  },
  {
   "cell_type": "markdown",
   "metadata": {},
   "source": [
    "### Exercise 4"
   ]
  },
  {
   "cell_type": "markdown",
   "metadata": {},
   "source": [
    "Write a function calculation() such that it can accept two variables and calculate the addition and subtraction of it. And also it must return both addition and subtraction in a single return call"
   ]
  },
  {
   "cell_type": "code",
   "execution_count": 10,
   "metadata": {},
   "outputs": [
    {
     "data": {
      "text/plain": [
       "(7, 1)"
      ]
     },
     "execution_count": 10,
     "metadata": {},
     "output_type": "execute_result"
    }
   ],
   "source": [
    "def calculation(n1,n2):\n",
    "    '''\n",
    "    input :\n",
    "        n1 (float): first number\n",
    "        n2 (float): second number\n",
    "    outout : \n",
    "       accept two variables and calculate the addition and subtraction of it. \n",
    "       And also it must return both addition and subtraction in a single return call\n",
    "    ''' \n",
    "    return n1+n2,n1-n2\n",
    "\n",
    "calculation(4,3)"
   ]
  },
  {
   "cell_type": "markdown",
   "metadata": {},
   "source": [
    "### Exercise 5"
   ]
  },
  {
   "cell_type": "markdown",
   "metadata": {},
   "source": [
    "Create a function showEmployee() in such a way that it should accept employee name, and it’s salary and display both, and if the salary is missing in function call it should show it as 8000. For instance, passing the employee name as \"Nasim\" and salary as 1000, the expected output is: The salary of employee called nasim is: 1000"
   ]
  },
  {
   "cell_type": "code",
   "execution_count": 16,
   "metadata": {},
   "outputs": [
    {
     "name": "stdout",
     "output_type": "stream",
     "text": [
      "The salary of employee called Nasim is: 8000\n"
     ]
    }
   ],
   "source": [
    "name = \"Nasim\"\n",
    "salary = 50\n",
    "\n",
    "def showEmployee(name,salary=8000):\n",
    "    '''\n",
    "    input :\n",
    "        name (string): first number\n",
    "        salary (float): salary of the employee\n",
    "    outout : \n",
    "       accept two variables and calculate the addition and subtraction of it. \n",
    "       And also it must return both addition and subtraction in a single return call\n",
    "    '''\n",
    "    print(\"The salary of employee called {} is: {}\".format(name,salary))\n",
    "showEmployee(name)"
   ]
  },
  {
   "cell_type": "markdown",
   "metadata": {},
   "source": [
    "###  Exercise 6"
   ]
  },
  {
   "cell_type": "markdown",
   "metadata": {},
   "source": [
    "Write the color_translator function. The color_translator function receives the name of a color, then prints its hexadecimal value. Currently, it only supports the three additive primary colors (red, green, blue), so it returns \"unknown\" for all other colors. Test out your code with different colors. Write the docstring.\n",
    "\n",
    "red > hex_color = \"#ff0000\"\n",
    "\n",
    "green > hex_color = \"#00ff00\"\n",
    "\n",
    "blue > hex_color = \"#0000ff\""
   ]
  },
  {
   "cell_type": "code",
   "execution_count": 31,
   "metadata": {},
   "outputs": [
    {
     "ename": "SyntaxError",
     "evalue": "invalid syntax (3211027292.py, line 16)",
     "output_type": "error",
     "traceback": [
      "\u001b[1;36m  Input \u001b[1;32mIn [31]\u001b[1;36m\u001b[0m\n\u001b[1;33m    catch s :\u001b[0m\n\u001b[1;37m    ^\u001b[0m\n\u001b[1;31mSyntaxError\u001b[0m\u001b[1;31m:\u001b[0m invalid syntax\n"
     ]
    }
   ],
   "source": [
    "\n",
    "def color_translator(name):\n",
    "    '''\n",
    "    The color_translator function receives the name of a color, then prints its hexadecimal value. \n",
    "    Currently, it only supports the three additive primary colors (red, green, blue), \n",
    "    so it returns \"unknown\" for all other colors.\n",
    "    \n",
    "    input :\n",
    "        name (string): name of the color\n",
    "    output : \n",
    "       returns hexadecimal\n",
    "    '''\n",
    "    colors = {'red':\"#ff0000\",'green':\"#00ff00\",'blue':\"#0000ff\"}\n",
    "    try:\n",
    "        return colors[name]\n",
    "    \n",
    "    except s :\n",
    "        print('unknown')\n",
    "\n",
    "        \n",
    "color_translator('ff')"
   ]
  },
  {
   "cell_type": "markdown",
   "metadata": {},
   "source": [
    "###  Exercise 7"
   ]
  },
  {
   "cell_type": "markdown",
   "metadata": {},
   "source": [
    "The highlight_word function changes the given word in a sentence to its upper-case version. For example, highlight_word(\"Have a nice day\", \"nice\") returns \"Have a NICE day\". Can you write this function in just one line? "
   ]
  },
  {
   "cell_type": "code",
   "execution_count": 28,
   "metadata": {},
   "outputs": [
    {
     "data": {
      "text/plain": [
       "dict_values([43])"
      ]
     },
     "execution_count": 28,
     "metadata": {},
     "output_type": "execute_result"
    }
   ],
   "source": [
    "s={'s':43}\n",
    "s.values()"
   ]
  },
  {
   "cell_type": "code",
   "execution_count": null,
   "metadata": {},
   "outputs": [],
   "source": [
    "def highlight_word(string):\n",
    "    lista=string.split()\n",
    "    if string in lista:\n",
    "        for \n",
    "        "
   ]
  },
  {
   "cell_type": "markdown",
   "metadata": {},
   "source": [
    "### Exercise 8"
   ]
  },
  {
   "cell_type": "markdown",
   "metadata": {},
   "source": [
    "Write a function that gets a list and returns the largest, smallest and sum of the items in the list. Write docstring for your function.\n",
    "\n",
    "my_list = [4, 6, 8, 24, 12, 2]"
   ]
  },
  {
   "cell_type": "code",
   "execution_count": 75,
   "metadata": {},
   "outputs": [],
   "source": [
    "def my_func (a,b):\n",
    "    return (a + b)"
   ]
  },
  {
   "cell_type": "code",
   "execution_count": 77,
   "metadata": {},
   "outputs": [],
   "source": [
    "x = my_func(2, 3)"
   ]
  },
  {
   "cell_type": "code",
   "execution_count": 78,
   "metadata": {},
   "outputs": [
    {
     "data": {
      "text/plain": [
       "5"
      ]
     },
     "execution_count": 78,
     "metadata": {},
     "output_type": "execute_result"
    }
   ],
   "source": [
    "x"
   ]
  },
  {
   "cell_type": "code",
   "execution_count": 79,
   "metadata": {},
   "outputs": [],
   "source": [
    "def my_func2 (a,b):\n",
    "    print (a + b)"
   ]
  },
  {
   "cell_type": "code",
   "execution_count": 80,
   "metadata": {},
   "outputs": [
    {
     "name": "stdout",
     "output_type": "stream",
     "text": [
      "5\n"
     ]
    }
   ],
   "source": [
    "my_func2(2,3)"
   ]
  },
  {
   "cell_type": "code",
   "execution_count": 81,
   "metadata": {},
   "outputs": [
    {
     "name": "stdout",
     "output_type": "stream",
     "text": [
      "5\n"
     ]
    }
   ],
   "source": [
    "y = my_func2(2,3)"
   ]
  },
  {
   "cell_type": "code",
   "execution_count": 82,
   "metadata": {},
   "outputs": [],
   "source": [
    "y"
   ]
  },
  {
   "cell_type": "markdown",
   "metadata": {},
   "source": [
    "<h5>Attributes</h5>\n",
    "<ul>\n",
    "    <li><font size = 1>UBC Master of Data Sceince</font></li>\n",
    "    <li><font size = 1>Kaggle</font></li>\n",
    "    <li><font size = 1>Pynative</font></li>\n",
    "</ul>"
   ]
  }
 ],
 "metadata": {
  "kernelspec": {
   "display_name": "Python 3 (ipykernel)",
   "language": "python",
   "name": "python3"
  },
  "language_info": {
   "codemirror_mode": {
    "name": "ipython",
    "version": 3
   },
   "file_extension": ".py",
   "mimetype": "text/x-python",
   "name": "python",
   "nbconvert_exporter": "python",
   "pygments_lexer": "ipython3",
   "version": "3.9.12"
  }
 },
 "nbformat": 4,
 "nbformat_minor": 4
}
