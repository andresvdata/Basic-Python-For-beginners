{
 "cells": [
  {
   "cell_type": "markdown",
   "metadata": {},
   "source": [
    "\n",
    "\n",
    "# Assignment 1 - Python Basics\n",
    "\n"
   ]
  },
  {
   "cell_type": "markdown",
   "metadata": {},
   "source": [
    "### A note for this assignment\n",
    "\n",
    "Submit this notebook with your answers included below each question.\n",
    "\n",
    "\n",
    "| Exercise | Point |\n",
    "| --- | --- |\n",
    "| 1 | 10 |\n",
    "| 2 | 10 |\n",
    "| 3 | 10 |\n",
    "| 4 | 10 |\n",
    "| 5 | 10 |\n",
    "| 6 | 10 |\n",
    "| 7 | 10 |\n",
    "| 8 | 10 |\n",
    "| 9 | 10 |\n",
    "|10 | 10 |\n",
    "| **Total** | **100** |\n"
   ]
  },
  {
   "cell_type": "markdown",
   "metadata": {},
   "source": [
    "### Exercise 1\n"
   ]
  },
  {
   "cell_type": "markdown",
   "metadata": {},
   "source": [
    "**Given this nested list, use indexing to grab the word \"python\".**"
   ]
  },
  {
   "cell_type": "code",
   "execution_count": 1,
   "metadata": {},
   "outputs": [],
   "source": [
    "lst = [1,2, [3, 4], [5, [100, 200, ['python']], 23, 11], 1, 7]"
   ]
  },
  {
   "cell_type": "code",
   "execution_count": 7,
   "metadata": {},
   "outputs": [
    {
     "data": {
      "text/plain": [
       "'python'"
      ]
     },
     "execution_count": 7,
     "metadata": {},
     "output_type": "execute_result"
    }
   ],
   "source": [
    "lst[3][1][2][0]"
   ]
  },
  {
   "cell_type": "markdown",
   "metadata": {},
   "source": [
    "### Exercise 2"
   ]
  },
  {
   "cell_type": "markdown",
   "metadata": {},
   "source": [
    "**Given this nested dictionary grab the word \"python\".**"
   ]
  },
  {
   "cell_type": "code",
   "execution_count": 8,
   "metadata": {},
   "outputs": [],
   "source": [
    "d = {'k1':[1, 2, 3, {'tricky':['oh','man','inception',{'target':[1, 2, 3, 'python']}]}]}"
   ]
  },
  {
   "cell_type": "code",
   "execution_count": 12,
   "metadata": {},
   "outputs": [
    {
     "data": {
      "text/plain": [
       "'python'"
      ]
     },
     "execution_count": 12,
     "metadata": {},
     "output_type": "execute_result"
    }
   ],
   "source": [
    "d['k1'][3]['tricky'][3]['target'][3]"
   ]
  },
  {
   "cell_type": "markdown",
   "metadata": {},
   "source": [
    "### Exercise 3"
   ]
  },
  {
   "cell_type": "markdown",
   "metadata": {},
   "source": [
    "**Create a list L with odd length.  Complete the following tasks:**\n",
    "\n",
    "\n",
    " - Find the median element\n",
    " - Slice out all element indexed lower than the median element\n",
    " \n",
    "```\n",
    "An example of a list L:\n",
    "L= [4, 5, 3, 2, 6, 6, 9]\n",
    "```"
   ]
  },
  {
   "cell_type": "code",
   "execution_count": 8,
   "metadata": {},
   "outputs": [
    {
     "name": "stdout",
     "output_type": "stream",
     "text": [
      "The median of the List (L) is :  6 , located in the position  4\n"
     ]
    }
   ],
   "source": [
    "L= [7, 4, 6, 8, 5, 4, 3 ,8 ,7 ]\n",
    "L=sorted(L)\n",
    "position=int((len(L)+1)/2)\n",
    "median=L[position-1]\n",
    "print('The median of the List (L) is : ',median, ', located in the position ',position-1)"
   ]
  },
  {
   "cell_type": "code",
   "execution_count": 10,
   "metadata": {},
   "outputs": [
    {
     "name": "stdout",
     "output_type": "stream",
     "text": [
      "Elements indexed lower than median are :  [3, 4, 4, 5]\n"
     ]
    }
   ],
   "source": [
    "element_lower=L[0:position-1]\n",
    "print('Elements indexed lower than median are : ',element_lower)"
   ]
  },
  {
   "cell_type": "markdown",
   "metadata": {},
   "source": [
    "### Exercise 4"
   ]
  },
  {
   "cell_type": "markdown",
   "metadata": {},
   "source": [
    "\n",
    "**a) Swap the following two tuples using one line of python code:**\n",
    "\n",
    "```\n",
    "tuple1 = (10, 23)\n",
    "tuple2 = (97, 33)\n",
    "```\n",
    "\n",
    "**Expected output:**\n",
    "```\n",
    "tuple1 = (97, 33)\n",
    "tuple2 = (10, 23)\n",
    "```\n"
   ]
  },
  {
   "cell_type": "code",
   "execution_count": 12,
   "metadata": {},
   "outputs": [],
   "source": [
    "tuple1 = (10, 23)\n",
    "tuple2 = (97, 33)"
   ]
  },
  {
   "cell_type": "code",
   "execution_count": 13,
   "metadata": {},
   "outputs": [],
   "source": [
    "tuple2,tuple1=  tuple1, tuple2 # code in one line"
   ]
  },
  {
   "cell_type": "code",
   "execution_count": 14,
   "metadata": {},
   "outputs": [
    {
     "name": "stdout",
     "output_type": "stream",
     "text": [
      "Tuple 1 has the following values : (97, 33) \n",
      "Tuple 2 has the following values : (10, 23)\n"
     ]
    }
   ],
   "source": [
    "# showing results\n",
    "print('Tuple 1 has the following values : {} \\nTuple 2 has the following values : {}'.format(tuple1,tuple2))"
   ]
  },
  {
   "cell_type": "markdown",
   "metadata": {},
   "source": [
    "**b) Modify the first item (22) of a list inside a following tuple to 222**\n",
    "\n",
    "```\n",
    "tuple1 = (11, [22, 33], 45, 56)\n",
    "```\n",
    "\n",
    "**Expected output:**\n",
    "```\n",
    "tuple1 = (11, [222, 33], 45, 56)\n",
    "```"
   ]
  },
  {
   "cell_type": "code",
   "execution_count": 17,
   "metadata": {},
   "outputs": [],
   "source": [
    "tuple1 = (11, [22, 33], 45, 56)"
   ]
  },
  {
   "cell_type": "code",
   "execution_count": 20,
   "metadata": {},
   "outputs": [
    {
     "name": "stdout",
     "output_type": "stream",
     "text": [
      "Once the tuple element is changed, the final result of the tuple is :  (11, [222, 33], 45, 56)\n"
     ]
    }
   ],
   "source": [
    "tuple1[1][0]=222\n",
    "print('Once the tuple element is changed, the final result of the tuple is : ',tuple1)"
   ]
  },
  {
   "cell_type": "markdown",
   "metadata": {},
   "source": [
    "### Exercise 5"
   ]
  },
  {
   "cell_type": "markdown",
   "metadata": {},
   "source": [
    "**Write a code that grabs the email website and prints out the domain:**\n",
    "\n",
    "**Example**    \n",
    "```\n",
    "my_name@domain.com\n",
    "```\n",
    "\n",
    "**Expected output:**\n",
    "```\n",
    "domain.com\n",
    "```\n"
   ]
  },
  {
   "cell_type": "code",
   "execution_count": 21,
   "metadata": {},
   "outputs": [
    {
     "data": {
      "text/plain": [
       "'domain.com'"
      ]
     },
     "execution_count": 21,
     "metadata": {},
     "output_type": "execute_result"
    }
   ],
   "source": [
    "email='my_name@domain.com'\n",
    "list_email=email.split('@')\n",
    "list_email[1]"
   ]
  },
  {
   "cell_type": "markdown",
   "metadata": {},
   "source": [
    "### Exercise 6"
   ]
  },
  {
   "cell_type": "markdown",
   "metadata": {},
   "source": [
    "Consider the following python data structures and write one use case for each of them.\n",
    "- string\n",
    "- list\n",
    "- tuple\n",
    "- dictionary\n",
    "- set\n"
   ]
  },
  {
   "cell_type": "markdown",
   "metadata": {},
   "source": [
    "* **String** is used for including a sequences of characters in the code. For instance, to show some results we can use print function to organize the results into text. After executing print function, it results into text scripts.\n",
    "        string='Hello world'\n",
    "* **list** is used for including multiple elements. For instance, to save numbers, list, tuples, or dictonaries is it possible.\n",
    "        list=[(3,5),[4,3,6],{'apples':7,'bananas':5}]\n",
    "* **tuple** is used for including multiple elements ordered, unchangeable (immutable) and allowing repeated values. For instance, a tuple can be used for extracting a variable of a data frame or extracting a row of a data frame, in which more than 1 data type can be found.\n",
    "         tuple=(4,True,'Robert')\n",
    "* **dictionary** is used to store a data collection using keys and its values, so that we can use a dictionary for storing a group of values of 1 category, for instance, number of apple and number of bananas can be included in the same dictionary\n",
    "\n",
    "        dictionary={'apples':7,'bananas':5}\n",
    "        \n",
    "* **sets** is used to store sets of numbers, strings or booleans unordered and unchangeable that cannot be duplicated, for instance storing the different names that can be found in a college is a good option using a set.\n",
    "        sets= {'andrea','louis','Mark','Jashon'}"
   ]
  },
  {
   "cell_type": "markdown",
   "metadata": {},
   "source": [
    "### Exercise 7"
   ]
  },
  {
   "cell_type": "markdown",
   "metadata": {},
   "source": [
    "Given the list nums = [5, 6, 7, 8, 9, 10, 11, 12], write the code that would index into the list and return the sublist [9, 10, 11]."
   ]
  },
  {
   "cell_type": "code",
   "execution_count": 46,
   "metadata": {},
   "outputs": [
    {
     "data": {
      "text/plain": [
       "[9, 10, 11]"
      ]
     },
     "execution_count": 46,
     "metadata": {},
     "output_type": "execute_result"
    }
   ],
   "source": [
    "nums = [5, 6, 7, 8, 9, 10, 11, 12]\n",
    "nums[4:7]"
   ]
  },
  {
   "cell_type": "markdown",
   "metadata": {},
   "source": [
    "### Exercise 8"
   ]
  },
  {
   "cell_type": "markdown",
   "metadata": {},
   "source": [
    "Using python indexing, change the name **`Jason** to **Oliver** in the below data structure"
   ]
  },
  {
   "cell_type": "code",
   "execution_count": 52,
   "metadata": {},
   "outputs": [],
   "source": [
    "customers = [{'id':'1234','full_name': {'first_name': 'Jason', 'last_name': 'Smith'}},\n",
    "        {'id':'2345','full_name': {'first_name': 'Tom', 'last_name': 'Albert'}},\n",
    "        {'id':'3456','full_name': {'first_name': 'Martin', 'last_name': 'Arts'}}]"
   ]
  },
  {
   "cell_type": "code",
   "execution_count": 53,
   "metadata": {},
   "outputs": [
    {
     "data": {
      "text/plain": [
       "[{'id': '1234', 'full_name': {'first_name': 'Oliver', 'last_name': 'Smith'}},\n",
       " {'id': '2345', 'full_name': {'first_name': 'Tom', 'last_name': 'Albert'}},\n",
       " {'id': '3456', 'full_name': {'first_name': 'Martin', 'last_name': 'Arts'}}]"
      ]
     },
     "execution_count": 53,
     "metadata": {},
     "output_type": "execute_result"
    }
   ],
   "source": [
    "customers[0]['full_name']['first_name']='Oliver'\n",
    "customers"
   ]
  },
  {
   "cell_type": "markdown",
   "metadata": {},
   "source": [
    "### Exercise 9"
   ]
  },
  {
   "cell_type": "markdown",
   "metadata": {},
   "source": [
    "Given the below python list, display the list in the following order:\n",
    "\n",
    "```\n",
    "my_list = [100, 200, 300, 400, 500]\n",
    "```\n",
    "\n",
    "**Expected output:**\n",
    "```\n",
    "my_list = [500, 400, 300, 200, 100]\n",
    "```\n"
   ]
  },
  {
   "cell_type": "code",
   "execution_count": 61,
   "metadata": {},
   "outputs": [
    {
     "data": {
      "text/plain": [
       "[500, 400, 300, 200, 100]"
      ]
     },
     "execution_count": 61,
     "metadata": {},
     "output_type": "execute_result"
    }
   ],
   "source": [
    "my_list = [100, 200, 300, 400, 500]\n",
    "my_list=sorted(my_list,reverse=True)\n",
    "my_list"
   ]
  },
  {
   "cell_type": "markdown",
   "metadata": {},
   "source": [
    "### Exercise 10"
   ]
  },
  {
   "cell_type": "markdown",
   "metadata": {},
   "source": [
    "Create a string variable with your full name in it, with your first and last name (and any middle names) seperated by a space. Split the string into a list, and print out your surname. \n",
    "\n"
   ]
  },
  {
   "cell_type": "code",
   "execution_count": 67,
   "metadata": {},
   "outputs": [
    {
     "name": "stdout",
     "output_type": "stream",
     "text": [
      "My surname is LastName\n"
     ]
    }
   ],
   "source": [
    "name='Andres LastName'\n",
    "named_splitted=name.split()\n",
    "print('My surname is {}'.format(named_splitted[2]))"
   ]
  }
 ],
 "metadata": {
  "anaconda-cloud": {},
  "kernelspec": {
   "display_name": "Python 3 (ipykernel)",
   "language": "python",
   "name": "python3"
  },
  "language_info": {
   "codemirror_mode": {
    "name": "ipython",
    "version": 3
   },
   "file_extension": ".py",
   "mimetype": "text/x-python",
   "name": "python",
   "nbconvert_exporter": "python",
   "pygments_lexer": "ipython3",
   "version": "3.9.12"
  }
 },
 "nbformat": 4,
 "nbformat_minor": 1
}
